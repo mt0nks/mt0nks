{
 "cells": [
  {
   "cell_type": "markdown",
   "id": "39b271a1",
   "metadata": {},
   "source": [
    "# My Jupyter Notebook on IBM Watson Studio"
   ]
  },
  {
   "cell_type": "markdown",
   "id": "10d9685e",
   "metadata": {},
   "source": [
    "**Camila Lopes Machado** </br>\n",
    "Desired occupation: Data Scientist"
   ]
  },
  {
   "cell_type": "markdown",
   "id": "0413cc98",
   "metadata": {},
   "source": [
    "*I am interested in data science because I want to help companies to make better decision in healthcare industry*"
   ]
  },
  {
   "cell_type": "markdown",
   "id": "2cec3adc",
   "metadata": {},
   "source": [
    "### The code below is a simple sum"
   ]
  },
  {
   "cell_type": "code",
   "execution_count": 5,
   "id": "e68764e7",
   "metadata": {},
   "outputs": [
    {
     "name": "stdout",
     "output_type": "stream",
     "text": [
      "5\n"
     ]
    }
   ],
   "source": [
    "a = (1 + 4)\n",
    "print(a)"
   ]
  },
  {
   "cell_type": "markdown",
   "id": "ba257944",
   "metadata": {},
   "source": [
    "1. Hi\n",
    "*****\n",
    "- Hello\n",
    "*****"
   ]
  },
  {
   "cell_type": "code",
   "execution_count": null,
   "id": "ef993a9c",
   "metadata": {},
   "outputs": [],
   "source": []
  },
  {
   "cell_type": "code",
   "execution_count": null,
   "id": "b7781b63",
   "metadata": {},
   "outputs": [],
   "source": []
  },
  {
   "cell_type": "code",
   "execution_count": null,
   "id": "21379a6f",
   "metadata": {},
   "outputs": [],
   "source": []
  },
  {
   "cell_type": "code",
   "execution_count": null,
   "id": "ad3921af",
   "metadata": {},
   "outputs": [],
   "source": []
  }
 ],
 "metadata": {
  "kernelspec": {
   "display_name": "Python 3 (ipykernel)",
   "language": "python",
   "name": "python3"
  },
  "language_info": {
   "codemirror_mode": {
    "name": "ipython",
    "version": 3
   },
   "file_extension": ".py",
   "mimetype": "text/x-python",
   "name": "python",
   "nbconvert_exporter": "python",
   "pygments_lexer": "ipython3",
   "version": "3.9.7"
  }
 },
 "nbformat": 4,
 "nbformat_minor": 5
}
